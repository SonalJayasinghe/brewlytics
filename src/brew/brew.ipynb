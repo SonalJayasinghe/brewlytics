{
 "cells": [
  {
   "cell_type": "markdown",
   "id": "d057339a",
   "metadata": {},
   "source": [
    "# Import Libraries"
   ]
  },
  {
   "cell_type": "code",
   "execution_count": 1,
   "id": "3af7c4f9",
   "metadata": {},
   "outputs": [],
   "source": [
    "import numpy as np\n",
    "import pandas as pd\n",
    "import matplotlib.pyplot as plt\n",
    "%matplotlib inline"
   ]
  },
  {
   "cell_type": "markdown",
   "id": "b6a81f8a",
   "metadata": {},
   "source": [
    "# Data Load"
   ]
  },
  {
   "cell_type": "code",
   "execution_count": null,
   "id": "ba75861c",
   "metadata": {},
   "outputs": [
    {
     "name": "stdout",
     "output_type": "stream",
     "text": [
      "   Unnamed: 0  Species                     Owner Country.of.Origin  \\\n",
      "0           1  Arabica                 metad plc          Ethiopia   \n",
      "1           2  Arabica                 metad plc          Ethiopia   \n",
      "2           3  Arabica  grounds for health admin         Guatemala   \n",
      "3           4  Arabica       yidnekachew dabessa          Ethiopia   \n",
      "4           5  Arabica                 metad plc          Ethiopia   \n",
      "\n",
      "                                  Farm.Name Lot.Number       Mill ICO.Number  \\\n",
      "0                                 metad plc        NaN  metad plc  2014/2015   \n",
      "1                                 metad plc        NaN  metad plc  2014/2015   \n",
      "2  san marcos barrancas \"san cristobal cuch        NaN        NaN        NaN   \n",
      "3     yidnekachew dabessa coffee plantation        NaN    wolensu        NaN   \n",
      "4                                 metad plc        NaN  metad plc  2014/2015   \n",
      "\n",
      "                                 Company       Altitude  ...  Color  \\\n",
      "0      metad agricultural developmet plc      1950-2200  ...  Green   \n",
      "1      metad agricultural developmet plc      1950-2200  ...  Green   \n",
      "2                                    NaN  1600 - 1800 m  ...    NaN   \n",
      "3  yidnekachew debessa coffee plantation      1800-2200  ...  Green   \n",
      "4      metad agricultural developmet plc      1950-2200  ...  Green   \n",
      "\n",
      "  Category.Two.Defects        Expiration                  Certification.Body  \\\n",
      "0                    0   April 3rd, 2016  METAD Agricultural Development plc   \n",
      "1                    1   April 3rd, 2016  METAD Agricultural Development plc   \n",
      "2                    0    May 31st, 2011        Specialty Coffee Association   \n",
      "3                    2  March 25th, 2016  METAD Agricultural Development plc   \n",
      "4                    2   April 3rd, 2016  METAD Agricultural Development plc   \n",
      "\n",
      "                      Certification.Address  \\\n",
      "0  309fcf77415a3661ae83e027f7e5f05dad786e44   \n",
      "1  309fcf77415a3661ae83e027f7e5f05dad786e44   \n",
      "2  36d0d00a3724338ba7937c52a378d085f2172daa   \n",
      "3  309fcf77415a3661ae83e027f7e5f05dad786e44   \n",
      "4  309fcf77415a3661ae83e027f7e5f05dad786e44   \n",
      "\n",
      "                      Certification.Contact unit_of_measurement  \\\n",
      "0  19fef5a731de2db57d16da10287413f5f99bc2dd                   m   \n",
      "1  19fef5a731de2db57d16da10287413f5f99bc2dd                   m   \n",
      "2  0878a7d4b9d35ddbf0fe2ce69a2062cceb45a660                   m   \n",
      "3  19fef5a731de2db57d16da10287413f5f99bc2dd                   m   \n",
      "4  19fef5a731de2db57d16da10287413f5f99bc2dd                   m   \n",
      "\n",
      "  altitude_low_meters altitude_high_meters altitude_mean_meters  \n",
      "0              1950.0               2200.0               2075.0  \n",
      "1              1950.0               2200.0               2075.0  \n",
      "2              1600.0               1800.0               1700.0  \n",
      "3              1800.0               2200.0               2000.0  \n",
      "4              1950.0               2200.0               2075.0  \n",
      "\n",
      "[5 rows x 44 columns]\n"
     ]
    }
   ],
   "source": [
    "df = pd.read_csv('data/arabica_data_cleaned.csv')\n",
    "print(df.head())"
   ]
  },
  {
   "cell_type": "code",
   "execution_count": null,
   "id": "eca64fc2",
   "metadata": {},
   "outputs": [],
   "source": []
  }
 ],
 "metadata": {
  "kernelspec": {
   "display_name": "Python 3",
   "language": "python",
   "name": "python3"
  },
  "language_info": {
   "codemirror_mode": {
    "name": "ipython",
    "version": 3
   },
   "file_extension": ".py",
   "mimetype": "text/x-python",
   "name": "python",
   "nbconvert_exporter": "python",
   "pygments_lexer": "ipython3",
   "version": "3.11.1"
  }
 },
 "nbformat": 4,
 "nbformat_minor": 5
}
